{
 "cells": [
  {
   "cell_type": "code",
   "execution_count": 30,
   "source": [
    "import glob"
   ],
   "outputs": [],
   "metadata": {}
  },
  {
   "cell_type": "code",
   "execution_count": 31,
   "source": [
    "<figure>\n",
    "    <img src=\"tiquet.png\" height=\"150\" width=\"90\">\n",
    "    <figcaption>Your label goes here</figcaption>\n",
    "</figure>'"
   ],
   "outputs": [
    {
     "output_type": "error",
     "ename": "SyntaxError",
     "evalue": "invalid syntax (<ipython-input-31-086903fc1df6>, line 1)",
     "traceback": [
      "\u001b[0;36m  File \u001b[0;32m\"<ipython-input-31-086903fc1df6>\"\u001b[0;36m, line \u001b[0;32m1\u001b[0m\n\u001b[0;31m    <figure>\u001b[0m\n\u001b[0m    ^\u001b[0m\n\u001b[0;31mSyntaxError\u001b[0m\u001b[0;31m:\u001b[0m invalid syntax\n"
     ]
    }
   ],
   "metadata": {}
  },
  {
   "cell_type": "code",
   "execution_count": null,
   "source": [
    "import bs4\n",
    "\n",
    "# load the file\n",
    "with open(\"test_html.html\") as inf:\n",
    "    txt = inf.read()\n",
    "    soup = bs4.BeautifulSoup(txt)"
   ],
   "outputs": [],
   "metadata": {}
  },
  {
   "cell_type": "code",
   "execution_count": null,
   "source": [],
   "outputs": [],
   "metadata": {}
  },
  {
   "cell_type": "code",
   "execution_count": null,
   "source": [
    "new_link = soup.new_tag(\"img\", src=\"./test_png/Astral_135.gif\", height= '20%', width = '40%')\n",
    "new_captian = soup.new_tag(\"figcaption\")\n",
    "new_captian.string = 'A plant name'\n"
   ],
   "outputs": [],
   "metadata": {}
  },
  {
   "cell_type": "code",
   "execution_count": null,
   "source": [
    "soup.head.append(new_link)\n",
    "soup.head.append(new_captian)\n"
   ],
   "outputs": [],
   "metadata": {}
  },
  {
   "cell_type": "code",
   "execution_count": null,
   "source": [
    "soup"
   ],
   "outputs": [
    {
     "output_type": "execute_result",
     "data": {
      "text/plain": [
       "<!DOCTYPE html>\n",
       "\n",
       "<html>\n",
       "<head>\n",
       "<img height=\"10%\" src=\"./test_png/Astral_135.gif\" width=\"20%\"/><figcaption>A plant name</figcaption></head></html>"
      ]
     },
     "metadata": {},
     "execution_count": 37
    }
   ],
   "metadata": {}
  },
  {
   "cell_type": "code",
   "execution_count": null,
   "source": [
    "# save the file again\n",
    "with open(\"test_html.html\", \"w\") as outf:\n",
    "    outf.write(str(soup))"
   ],
   "outputs": [],
   "metadata": {}
  },
  {
   "cell_type": "code",
   "execution_count": 7,
   "source": [
    "def make_html_entry(genotype):\n",
    "    # load the file\n",
    "    with open(\"index.html\") as inf:\n",
    "        txt = inf.read()\n",
    "        soup = bs4.BeautifulSoup(txt)\n",
    "\n",
    "    new_label = soup.new_tag(\"select\", id = 'plant_name')\n",
    "\n",
    "    new_link = soup.new_tag(\"option\", value=genotype)\n",
    "    print(soup)\n",
    "    print(soup.head.label.select)\n",
    "    # .append(new_link)\n",
    "    \n",
    "\n",
    "    # save the file again\n",
    "    with open(\"index.html\", \"w\") as outf:\n",
    "        outf.write(str(soup))"
   ],
   "outputs": [],
   "metadata": {}
  },
  {
   "cell_type": "code",
   "execution_count": 8,
   "source": [
    "import bs4\n",
    "make_html_entry('Test Geno please')\n"
   ],
   "outputs": [
    {
     "output_type": "stream",
     "name": "stdout",
     "text": [
      "\n",
      "<head>\n",
      "<label for=\"plant_names\">Choose a genotype:</label>\n",
      "<select id=\"plant_name\" name=\"plant_names\">\n",
      "<option> test_value</option>\n",
      "<option>another value</option>\n",
      "</select>\n",
      "</head>\n",
      "<label for=\"plant_names\">Choose a genotype:</label>\n"
     ]
    }
   ],
   "metadata": {}
  },
  {
   "cell_type": "code",
   "execution_count": 34,
   "source": [
    "<label for=\"plant_names\">Choose a genotype:</label>\n",
    "<select name=\"plant_names\" id=\"plant_name\">\n",
    "<option value=\"rigatoni\">Rigatoni</option>\n",
    "</select>"
   ],
   "outputs": [
    {
     "output_type": "error",
     "ename": "SyntaxError",
     "evalue": "invalid syntax (<ipython-input-34-a1f618e87862>, line 1)",
     "traceback": [
      "\u001b[0;36m  File \u001b[0;32m\"<ipython-input-34-a1f618e87862>\"\u001b[0;36m, line \u001b[0;32m1\u001b[0m\n\u001b[0;31m    <label for=\"plant_names\">Choose a genotype:</label>\u001b[0m\n\u001b[0m    ^\u001b[0m\n\u001b[0;31mSyntaxError\u001b[0m\u001b[0;31m:\u001b[0m invalid syntax\n"
     ]
    }
   ],
   "metadata": {}
  },
  {
   "cell_type": "code",
   "execution_count": null,
   "source": [],
   "outputs": [],
   "metadata": {}
  }
 ],
 "metadata": {
  "orig_nbformat": 4,
  "language_info": {
   "name": "python",
   "version": "3.8.8",
   "mimetype": "text/x-python",
   "codemirror_mode": {
    "name": "ipython",
    "version": 3
   },
   "pygments_lexer": "ipython3",
   "nbconvert_exporter": "python",
   "file_extension": ".py"
  },
  "kernelspec": {
   "name": "python3",
   "display_name": "Python 3.8.8 64-bit ('open3d': conda)"
  },
  "interpreter": {
   "hash": "f818423804077dff3af7fa2f6e8403539dc099a3f3948df8e002d4ded5ce97a0"
  }
 },
 "nbformat": 4,
 "nbformat_minor": 2
}